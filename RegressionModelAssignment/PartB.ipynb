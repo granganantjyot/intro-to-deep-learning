{
 "cells": [
  {
   "cell_type": "code",
   "execution_count": 4,
   "id": "bf61b26f-c8ef-4944-a02d-7929f4154cd5",
   "metadata": {
    "tags": []
   },
   "outputs": [
    {
     "name": "stdout",
     "output_type": "stream",
     "text": [
      "Mean is 379.81649245222167\n",
      "Standard deviation is 82.13106244190823\n"
     ]
    }
   ],
   "source": [
    "# Import libraries\n",
    "import pandas as pd\n",
    "import numpy as np\n",
    "import sklearn\n",
    "from sklearn.model_selection import train_test_split\n",
    "\n",
    "import keras\n",
    "from keras.models import Sequential\n",
    "from keras.layers import Dense\n",
    "\n",
    "\n",
    "def model():\n",
    "    # Get concrete data\n",
    "    concrete_data = pd.read_csv('https://cocl.us/concrete_data')\n",
    "\n",
    "    # Split data into predictors and target\n",
    "    concrete_data_cols = concrete_data.columns\n",
    "    predictors = concrete_data[concrete_data_cols[concrete_data_cols != 'Strength']] # predictors\n",
    "    target = concrete_data['Strength'] # target \n",
    "    \n",
    "    # Normalize the data\n",
    "    predictors_normalized = (predictors - predictors.mean()) / predictors.std()\n",
    "\n",
    "    # Split train and test data\n",
    "    predictors_train, predictors_test, target_train, target_test = train_test_split(predictors_normalized, target, test_size=0.3, random_state=2)\n",
    "\n",
    "    # Create and train regression model\n",
    "    model = Sequential()\n",
    "    model.add(Dense(10, activation=\"relu\", input_shape=(predictors_normalized.shape[1], ))) # hidden layer of 10 neurons\n",
    "    model.add(Dense(1)) # output layer\n",
    "\n",
    "    model.compile(optimizer='adam', loss='mean_squared_error')\n",
    "    model.fit(predictors_train, target_train, epochs=50, verbose=0)\n",
    "\n",
    "    # Evaluate model\n",
    "    output = model.predict(predictors_test)\n",
    "    output = output.flatten()\n",
    "\n",
    "    mean_squared_error = sklearn.metrics.mean_squared_error(target_test, output)\n",
    "    \n",
    "    return mean_squared_error # output mean squared error of the model\n",
    "\n",
    "\n",
    "# Train model 50 times and get mean squared error of each model\n",
    "result = []\n",
    "for i in range(50):\n",
    "    result.append(model())\n",
    "    \n",
    "df = pd.Series(result)\n",
    "\n",
    "# Mean\n",
    "print(f\"Mean is {df.mean()}\")\n",
    "\n",
    "# Standard Deviation\n",
    "print(f\"Standard deviation is {df.std()}\")"
   ]
  },
  {
   "cell_type": "code",
   "execution_count": null,
   "id": "3d698a75-a38a-4b0c-8c5d-01589cb2743a",
   "metadata": {},
   "outputs": [],
   "source": []
  }
 ],
 "metadata": {
  "kernelspec": {
   "display_name": "Python",
   "language": "python",
   "name": "conda-env-python-py"
  },
  "language_info": {
   "codemirror_mode": {
    "name": "ipython",
    "version": 3
   },
   "file_extension": ".py",
   "mimetype": "text/x-python",
   "name": "python",
   "nbconvert_exporter": "python",
   "pygments_lexer": "ipython3",
   "version": "3.7.12"
  }
 },
 "nbformat": 4,
 "nbformat_minor": 5
}
